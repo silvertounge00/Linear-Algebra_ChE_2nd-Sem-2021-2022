{
  "nbformat": 4,
  "nbformat_minor": 0,
  "metadata": {
    "colab": {
      "name": "Assignment6.ipynb",
      "provenance": [],
      "authorship_tag": "ABX9TyPfH3TBf+vRBcUrKzK+ixpQ",
      "include_colab_link": true
    },
    "kernelspec": {
      "name": "python3",
      "display_name": "Python 3"
    },
    "language_info": {
      "name": "python"
    }
  },
  "cells": [
    {
      "cell_type": "markdown",
      "metadata": {
        "id": "view-in-github",
        "colab_type": "text"
      },
      "source": [
        "<a href=\"https://colab.research.google.com/github/silvertounge00/Linear-Algebra_ChE_2nd-Sem-2021-2022/blob/main/Assignment6.ipynb\" target=\"_parent\"><img src=\"https://colab.research.google.com/assets/colab-badge.svg\" alt=\"Open In Colab\"/></a>"
      ]
    },
    {
      "cell_type": "markdown",
      "source": [
        "# Linear Algebra for ECE\n",
        "## Laboratory 6 : Matrix Operations"
      ],
      "metadata": {
        "id": "sFpLtJ6KVByI"
      }
    },
    {
      "cell_type": "markdown",
      "source": [
        "### Objectives\n",
        "At the end of this activity you will be able to:\n",
        "1. Be familiar with the fundamental matrix operations.\n",
        "2. Apply the operations to solve intemrediate equations.\n",
        "3. Apply matrix algebra in engineering solutions."
      ],
      "metadata": {
        "id": "lLP-2_uDWbWA"
      }
    },
    {
      "cell_type": "markdown",
      "source": [
        "## Discussion"
      ],
      "metadata": {
        "id": "DPZsb65lWgrX"
      }
    },
    {
      "cell_type": "code",
      "source": [
        "import numpy as np\n",
        "import matplotlib.pyplot as plt\n",
        "%matplotlib inline"
      ],
      "metadata": {
        "id": "nUfbrl31VStI"
      },
      "execution_count": 2,
      "outputs": []
    },
    {
      "cell_type": "markdown",
      "source": [
        "## Transposition"
      ],
      "metadata": {
        "id": "QPcPbAcGWme9"
      }
    },
    {
      "cell_type": "markdown",
      "source": [
        "One of the fundamental operations in matrix algebra is Transposition. The transpose of a matrix is done by flipping the values of its elements over its diagonals. With this, the rows and columns from the original matrix will be switched. So for a matrix $A$ its transpose is denoted as $A^T$. So for example:"
      ],
      "metadata": {
        "id": "WQqSMCu8Wp62"
      }
    },
    {
      "cell_type": "markdown",
      "source": [
        "$$A = \\begin{bmatrix} 1 & 2 & 5\\\\5 & -1 &0 \\\\ 0 & -3 & 3\\end{bmatrix} $$\n"
      ],
      "metadata": {
        "id": "8ExWcr5wUQuI"
      }
    },
    {
      "cell_type": "markdown",
      "source": [
        "$$ A^T = \\begin{bmatrix} 1 & 5 & 0\\\\2 & -1 &-3 \\\\ 5 & 0 & 3\\end{bmatrix}$$"
      ],
      "metadata": {
        "id": "o3fYehfGUSPX"
      }
    },
    {
      "cell_type": "markdown",
      "source": [
        "This can now be achieved programmatically by using `np.transpose()` or using the `T` method."
      ],
      "metadata": {
        "id": "mTWq2xmSWt6u"
      }
    },
    {
      "cell_type": "code",
      "source": [
        "A = np.array([\n",
        "    [2 ,8, 1],\n",
        "    [5, -6, 7],\n",
        "    [9, -3, 6]\n",
        "])\n",
        "A"
      ],
      "metadata": {
        "colab": {
          "base_uri": "https://localhost:8080/"
        },
        "id": "DwLpuapJVJ0B",
        "outputId": "16f7ce70-f5ce-4a14-8b51-62261f80129f"
      },
      "execution_count": 10,
      "outputs": [
        {
          "output_type": "execute_result",
          "data": {
            "text/plain": [
              "array([[ 2,  8,  1],\n",
              "       [ 5, -6,  7],\n",
              "       [ 9, -3,  6]])"
            ]
          },
          "metadata": {},
          "execution_count": 10
        }
      ]
    },
    {
      "cell_type": "code",
      "source": [
        "AT1 = np.transpose(A)\n",
        "AT1"
      ],
      "metadata": {
        "colab": {
          "base_uri": "https://localhost:8080/"
        },
        "id": "h8l31c82VXVS",
        "outputId": "65a95c63-8494-4a25-9e12-d74c8f827095"
      },
      "execution_count": 11,
      "outputs": [
        {
          "output_type": "execute_result",
          "data": {
            "text/plain": [
              "array([[ 2,  5,  9],\n",
              "       [ 8, -6, -3],\n",
              "       [ 1,  7,  6]])"
            ]
          },
          "metadata": {},
          "execution_count": 11
        }
      ]
    },
    {
      "cell_type": "code",
      "source": [
        "AT2 = A.T\n",
        "AT2"
      ],
      "metadata": {
        "colab": {
          "base_uri": "https://localhost:8080/"
        },
        "id": "StxJ5YYQVaNy",
        "outputId": "3b5629ea-7f31-4dd9-dd96-ad339302db3e"
      },
      "execution_count": 12,
      "outputs": [
        {
          "output_type": "execute_result",
          "data": {
            "text/plain": [
              "array([[ 2,  5,  9],\n",
              "       [ 8, -6, -3],\n",
              "       [ 1,  7,  6]])"
            ]
          },
          "metadata": {},
          "execution_count": 12
        }
      ]
    },
    {
      "cell_type": "code",
      "source": [
        "np.array_equiv(AT1, AT2)"
      ],
      "metadata": {
        "colab": {
          "base_uri": "https://localhost:8080/"
        },
        "id": "7s5msoHeVcbR",
        "outputId": "a8d99fd6-f73f-4da0-e3fb-9fa5ca7bc80d"
      },
      "execution_count": 6,
      "outputs": [
        {
          "output_type": "execute_result",
          "data": {
            "text/plain": [
              "True"
            ]
          },
          "metadata": {},
          "execution_count": 6
        }
      ]
    },
    {
      "cell_type": "code",
      "source": [
        "B = np.array([\n",
        "    [5,6,7,8],\n",
        "    [2,0,2,2],\n",
        "])\n",
        "B.shape"
      ],
      "metadata": {
        "colab": {
          "base_uri": "https://localhost:8080/"
        },
        "id": "Jqcc8xBbYSjJ",
        "outputId": "80a34851-fb68-4412-dfd5-71e80f77f2ab"
      },
      "execution_count": 16,
      "outputs": [
        {
          "output_type": "execute_result",
          "data": {
            "text/plain": [
              "(2, 4)"
            ]
          },
          "metadata": {},
          "execution_count": 16
        }
      ]
    },
    {
      "cell_type": "code",
      "source": [
        "np.transpose(B).shape"
      ],
      "metadata": {
        "colab": {
          "base_uri": "https://localhost:8080/"
        },
        "id": "__qg0jQuYVcX",
        "outputId": "a0417ab3-893c-4973-e6ee-b84b583d0451"
      },
      "execution_count": 14,
      "outputs": [
        {
          "output_type": "execute_result",
          "data": {
            "text/plain": [
              "(4, 2)"
            ]
          },
          "metadata": {},
          "execution_count": 14
        }
      ]
    },
    {
      "cell_type": "code",
      "source": [
        "B.T.shape"
      ],
      "metadata": {
        "colab": {
          "base_uri": "https://localhost:8080/"
        },
        "id": "m07tl_FpYYJl",
        "outputId": "15a179e7-4499-423f-df78-49584ce800df"
      },
      "execution_count": 15,
      "outputs": [
        {
          "output_type": "execute_result",
          "data": {
            "text/plain": [
              "(4, 2)"
            ]
          },
          "metadata": {},
          "execution_count": 15
        }
      ]
    },
    {
      "cell_type": "markdown",
      "source": [
        "#### Try to create your own matrix (you can try non-squares) to test transposition."
      ],
      "metadata": {
        "id": "zmAN-UCZZsWY"
      }
    },
    {
      "cell_type": "code",
      "source": [
        "## Try out your code here."
      ],
      "metadata": {
        "id": "hW3T248OZvMh"
      },
      "execution_count": null,
      "outputs": []
    },
    {
      "cell_type": "markdown",
      "source": [
        "## Dot Product / Inner Product"
      ],
      "metadata": {
        "id": "glhFvfHsZxmg"
      }
    },
    {
      "cell_type": "markdown",
      "source": [
        ""
      ],
      "metadata": {
        "id": "NzurR94JZ1l1"
      }
    },
    {
      "cell_type": "markdown",
      "metadata": {
        "id": "6kzi5rKI5qAd"
      },
      "source": [
        "If you recall the dot product from laboratory activity before, we will try to implement the same operation with matrices. In matrix dot product we are going to get the sum of products of the vectors by row-column pairs. So if we have two matrices $X$ and $Y$:\n",
        "\n",
        "$$X = \\begin{bmatrix}x_{(0,0)}&x_{(0,1)}\\\\ x_{(1,0)}&x_{(1,1)}\\end{bmatrix}, Y = \\begin{bmatrix}y_{(0,0)}&y_{(0,1)}\\\\ y_{(1,0)}&y_{(1,1)}\\end{bmatrix}$$\n",
        "\n",
        "The dot product will then be computed as:\n",
        "$$X \\cdot Y= \\begin{bmatrix} x_{(0,0)}*y_{(0,0)} + x_{(0,1)}*y_{(1,0)} & x_{(0,0)}*y_{(0,1)} + x_{(0,1)}*y_{(1,1)} \\\\  x_{(1,0)}*y_{(0,0)} + x_{(1,1)}*y_{(1,0)} & x_{(1,0)}*y_{(0,1)} + x_{(1,1)}*y_{(1,1)}\n",
        "\\end{bmatrix}$$\n",
        "\n",
        "So if we assign values to $X$ and $Y$:\n",
        "$$X = \\begin{bmatrix}1&2\\\\ 0&1\\end{bmatrix}, Y = \\begin{bmatrix}-1&0\\\\ 2&2\\end{bmatrix}$$"
      ]
    },
    {
      "cell_type": "markdown",
      "source": [
        "$$X \\cdot Y= \\begin{bmatrix} 1*-1 + 2*2 & 1*0 + 2*2 \\\\  0*-1 + 1*2 & 0*0 + 1*2 \\end{bmatrix} = \\begin{bmatrix} 3 & 4 \\\\2 & 2 \\end{bmatrix}$$\n",
        "This could be achieved programmatically using `np.dot()`, `np.matmul()` or the `@` operator."
      ],
      "metadata": {
        "id": "xyXAi-cQZ6H1"
      }
    },
    {
      "cell_type": "code",
      "source": [
        "X = np.array([\n",
        "    [2,1],\n",
        "    [1,0]\n",
        "])\n",
        "Y = np.array([\n",
        "    [-2,2],\n",
        "    [1,0]\n",
        "])"
      ],
      "metadata": {
        "id": "MNj0fakXZ9On"
      },
      "execution_count": 22,
      "outputs": []
    },
    {
      "cell_type": "code",
      "source": [
        "np.dot(X,Y)"
      ],
      "metadata": {
        "colab": {
          "base_uri": "https://localhost:8080/"
        },
        "id": "eAQcOdV3Z_1l",
        "outputId": "4689d5f9-c45d-41f1-fa59-2b98fea2753f"
      },
      "execution_count": 23,
      "outputs": [
        {
          "output_type": "execute_result",
          "data": {
            "text/plain": [
              "array([[-3,  4],\n",
              "       [-2,  2]])"
            ]
          },
          "metadata": {},
          "execution_count": 23
        }
      ]
    },
    {
      "cell_type": "code",
      "source": [
        "X.dot(Y)"
      ],
      "metadata": {
        "colab": {
          "base_uri": "https://localhost:8080/"
        },
        "id": "05z9FzQmaClf",
        "outputId": "9540f129-a9b1-4e40-980c-9c5d26e587e3"
      },
      "execution_count": 24,
      "outputs": [
        {
          "output_type": "execute_result",
          "data": {
            "text/plain": [
              "array([[-3,  4],\n",
              "       [-2,  2]])"
            ]
          },
          "metadata": {},
          "execution_count": 24
        }
      ]
    },
    {
      "cell_type": "code",
      "source": [
        "X @ Y"
      ],
      "metadata": {
        "colab": {
          "base_uri": "https://localhost:8080/"
        },
        "id": "DEKtVo09aE_H",
        "outputId": "eaddf41f-f17f-4e6b-e5b4-b2f31137d744"
      },
      "execution_count": 25,
      "outputs": [
        {
          "output_type": "execute_result",
          "data": {
            "text/plain": [
              "array([[-3,  4],\n",
              "       [-2,  2]])"
            ]
          },
          "metadata": {},
          "execution_count": 25
        }
      ]
    },
    {
      "cell_type": "code",
      "source": [
        "np.matmul(X,Y)"
      ],
      "metadata": {
        "colab": {
          "base_uri": "https://localhost:8080/"
        },
        "id": "3DbprbcEaH2m",
        "outputId": "eb4cd88e-d125-4797-820b-94a3d65866a3"
      },
      "execution_count": 26,
      "outputs": [
        {
          "output_type": "execute_result",
          "data": {
            "text/plain": [
              "array([[-3,  4],\n",
              "       [-2,  2]])"
            ]
          },
          "metadata": {},
          "execution_count": 26
        }
      ]
    },
    {
      "cell_type": "markdown",
      "source": [
        "In matrix dot products there are additional rules compared with vector dot products. Since vector dot products were just in one dimension there are less restrictions. Since now we are dealing with Rank 2 vectors we need to consider some rules:\n",
        "\n",
        "### Rule 1: The inner dimensions of the two matrices in question must be the same. \n",
        "\n",
        "So given a matrix $A$ with a shape of $(a,b)$ where $a$ and $b$ are any integers. If we want to do a dot product between $A$ and another matrix $B$, then matrix $B$ should have a shape of $(b,c)$ where $b$ and $c$ are any integers. So for given the following matrices:\n",
        "\n",
        "$$A = \\begin{bmatrix}2&4\\\\5&-2\\\\0&1\\end{bmatrix}, B = \\begin{bmatrix}1&1\\\\3&3\\\\-1&-2\\end{bmatrix}, C = \\begin{bmatrix}0&1&1\\\\1&1&2\\end{bmatrix}$$\n",
        "\n",
        "So in this case $A$ has a shape of $(3,2)$, $B$ has a shape of $(3,2)$ and $C$ has a shape of $(2,3)$. So the only matrix pairs that is eligible to perform dot product is matrices $A \\cdot C$, or $B \\cdot C$.  "
      ],
      "metadata": {
        "id": "cEGGV3sobzqd"
      }
    },
    {
      "cell_type": "code",
      "source": [
        "A = np.array([\n",
        "    [3, 4],\n",
        "    [6, -3],\n",
        "    [1, 0]\n",
        "])\n",
        "B = np.array([\n",
        "    [2,2],\n",
        "    [4,4],\n",
        "    [-2,-3]\n",
        "])\n",
        "C = np.array([\n",
        "    [1,2,2],\n",
        "    [2,2,3]\n",
        "])\n",
        "print(A.shape)\n",
        "print(B.shape)\n",
        "print(C.shape)"
      ],
      "metadata": {
        "colab": {
          "base_uri": "https://localhost:8080/"
        },
        "id": "Jfmvrjd3b4RQ",
        "outputId": "265cd303-79cb-4950-ce29-2c989b9b1aeb"
      },
      "execution_count": 33,
      "outputs": [
        {
          "output_type": "stream",
          "name": "stdout",
          "text": [
            "(3, 2)\n",
            "(3, 2)\n",
            "(2, 3)\n"
          ]
        }
      ]
    },
    {
      "cell_type": "code",
      "source": [
        "A @ C"
      ],
      "metadata": {
        "colab": {
          "base_uri": "https://localhost:8080/"
        },
        "id": "ZWnZF0Tgb-Ot",
        "outputId": "2a9a73d9-628d-49a3-c10a-19c56748f912"
      },
      "execution_count": 34,
      "outputs": [
        {
          "output_type": "execute_result",
          "data": {
            "text/plain": [
              "array([[11, 14, 18],\n",
              "       [ 0,  6,  3],\n",
              "       [ 1,  2,  2]])"
            ]
          },
          "metadata": {},
          "execution_count": 34
        }
      ]
    },
    {
      "cell_type": "code",
      "source": [
        "B @ C"
      ],
      "metadata": {
        "colab": {
          "base_uri": "https://localhost:8080/"
        },
        "id": "LhekLj3pcA-z",
        "outputId": "29ba6cfb-a596-457c-9046-baba251cf73a"
      },
      "execution_count": 35,
      "outputs": [
        {
          "output_type": "execute_result",
          "data": {
            "text/plain": [
              "array([[  6,   8,  10],\n",
              "       [ 12,  16,  20],\n",
              "       [ -8, -10, -13]])"
            ]
          },
          "metadata": {},
          "execution_count": 35
        }
      ]
    },
    {
      "cell_type": "markdown",
      "source": [
        "If you would notice the shape of the dot product changed and its shape is not the same as any of the matrices we used. The shape of a dot product is actually derived from the shapes of the matrices used. So recall matrix $A$ with a shape of $(a,b)$ and matrix $B$ with a shape of $(b,c)$, $A \\cdot B$ should have a shape $(a,c)$."
      ],
      "metadata": {
        "id": "VaKbCU6scGRH"
      }
    },
    {
      "cell_type": "code",
      "source": [
        "A @ B.T"
      ],
      "metadata": {
        "colab": {
          "base_uri": "https://localhost:8080/"
        },
        "id": "kb-hKSM4cJMY",
        "outputId": "631e32c0-28f5-45bb-ee9e-9f280b16a842"
      },
      "execution_count": 36,
      "outputs": [
        {
          "output_type": "execute_result",
          "data": {
            "text/plain": [
              "array([[ 14,  28, -18],\n",
              "       [  6,  12,  -3],\n",
              "       [  2,   4,  -2]])"
            ]
          },
          "metadata": {},
          "execution_count": 36
        }
      ]
    },
    {
      "cell_type": "code",
      "source": [
        "X = np.array([\n",
        "    [2,3,4,1]\n",
        "])\n",
        "Y = np.array([\n",
        "    [2,1,5,-2]\n",
        "])\n",
        "print(X.shape)\n",
        "print(Y.shape)"
      ],
      "metadata": {
        "colab": {
          "base_uri": "https://localhost:8080/"
        },
        "id": "3g9t4OrVcLmR",
        "outputId": "b24d753d-cc88-4005-cf13-e782cd6e1eb2"
      },
      "execution_count": 39,
      "outputs": [
        {
          "output_type": "stream",
          "name": "stdout",
          "text": [
            "(1, 4)\n",
            "(1, 4)\n"
          ]
        }
      ]
    },
    {
      "cell_type": "code",
      "source": [
        "Y.T @ X"
      ],
      "metadata": {
        "colab": {
          "base_uri": "https://localhost:8080/"
        },
        "id": "nF6rwCsPcP2F",
        "outputId": "f1c4d9bd-e8d1-4af9-ea88-2550214a71b3"
      },
      "execution_count": 40,
      "outputs": [
        {
          "output_type": "execute_result",
          "data": {
            "text/plain": [
              "array([[ 4,  6,  8,  2],\n",
              "       [ 2,  3,  4,  1],\n",
              "       [10, 15, 20,  5],\n",
              "       [-4, -6, -8, -2]])"
            ]
          },
          "metadata": {},
          "execution_count": 40
        }
      ]
    },
    {
      "cell_type": "markdown",
      "source": [
        "And youcan see that when you try to multiply A and B, it returns `ValueError` pertaining to matrix shape mismatch."
      ],
      "metadata": {
        "id": "O_Sak-kmeCIu"
      }
    },
    {
      "cell_type": "markdown",
      "source": [
        "### Rule 2: Dot Product has special properties\n",
        "\n",
        "Dot products are prevalent in matrix algebra, this implies that it has several unique properties and it should be considered when formulation solutions:\n",
        " 1. $A \\cdot B \\neq B \\cdot A$\n",
        " 2. $A \\cdot (B \\cdot C) = (A \\cdot B) \\cdot C$\n",
        " 3. $A\\cdot(B+C) = A\\cdot B + A\\cdot C$\n",
        " 4. $(B+C)\\cdot A = B\\cdot A + C\\cdot A$\n",
        " 5. $A\\cdot I = A$\n",
        " 6. $A\\cdot \\emptyset = \\emptyset$"
      ],
      "metadata": {
        "id": "wSnmFwfFeFAH"
      }
    },
    {
      "cell_type": "markdown",
      "source": [
        "I'll be doing just one of the properties and I'll leave the rest to test your skills!"
      ],
      "metadata": {
        "id": "862blh4geI_h"
      }
    },
    {
      "cell_type": "code",
      "source": [
        "A = np.array([\n",
        "    [3,2,1],\n",
        "    [4,5,1],\n",
        "    [1,1,0]\n",
        "])\n",
        "B = np.array([\n",
        "    [4,1,6],\n",
        "    [4,1,9],\n",
        "    [1,4,8]\n",
        "])\n",
        "C = np.array([\n",
        "    [1,1,0],\n",
        "    [0,1,1],\n",
        "    [1,0,1]\n",
        "])"
      ],
      "metadata": {
        "id": "OIg5PF8JeL-U"
      },
      "execution_count": 41,
      "outputs": []
    },
    {
      "cell_type": "code",
      "source": [
        "A.dot(np.zeros(A.shape))"
      ],
      "metadata": {
        "colab": {
          "base_uri": "https://localhost:8080/"
        },
        "id": "rP20XiM8eOSc",
        "outputId": "39b5d524-34ba-46fc-f28e-396d585b2868"
      },
      "execution_count": 42,
      "outputs": [
        {
          "output_type": "execute_result",
          "data": {
            "text/plain": [
              "array([[0., 0., 0.],\n",
              "       [0., 0., 0.],\n",
              "       [0., 0., 0.]])"
            ]
          },
          "metadata": {},
          "execution_count": 42
        }
      ]
    },
    {
      "cell_type": "code",
      "source": [
        "z_mat = np.zeros(A.shape)\n",
        "z_mat"
      ],
      "metadata": {
        "colab": {
          "base_uri": "https://localhost:8080/"
        },
        "id": "jyjygPwseQo4",
        "outputId": "fd70e340-2acb-43bf-afe0-d441592e28b8"
      },
      "execution_count": 43,
      "outputs": [
        {
          "output_type": "execute_result",
          "data": {
            "text/plain": [
              "array([[0., 0., 0.],\n",
              "       [0., 0., 0.],\n",
              "       [0., 0., 0.]])"
            ]
          },
          "metadata": {},
          "execution_count": 43
        }
      ]
    },
    {
      "cell_type": "code",
      "source": [
        "a_dot_z = A.dot(np.zeros(A.shape))\n",
        "a_dot_z"
      ],
      "metadata": {
        "colab": {
          "base_uri": "https://localhost:8080/"
        },
        "id": "D-fReiwheSsd",
        "outputId": "9e11735f-6156-4a81-e4c8-c6b99dcff5ec"
      },
      "execution_count": 44,
      "outputs": [
        {
          "output_type": "execute_result",
          "data": {
            "text/plain": [
              "array([[0., 0., 0.],\n",
              "       [0., 0., 0.],\n",
              "       [0., 0., 0.]])"
            ]
          },
          "metadata": {},
          "execution_count": 44
        }
      ]
    },
    {
      "cell_type": "code",
      "source": [
        "np.array_equal(a_dot_z,z_mat)"
      ],
      "metadata": {
        "colab": {
          "base_uri": "https://localhost:8080/"
        },
        "id": "6929_CvBeVHq",
        "outputId": "252d6901-2f30-4da2-8fde-d7b33ec62533"
      },
      "execution_count": 45,
      "outputs": [
        {
          "output_type": "execute_result",
          "data": {
            "text/plain": [
              "True"
            ]
          },
          "metadata": {},
          "execution_count": 45
        }
      ]
    },
    {
      "cell_type": "code",
      "source": [
        "null_mat = np.empty(A.shape, dtype=float)\n",
        "null = np.array(null_mat,dtype=float)\n",
        "print(null)\n",
        "np.allclose(a_dot_z,null)"
      ],
      "metadata": {
        "colab": {
          "base_uri": "https://localhost:8080/"
        },
        "id": "9cCSo6BteXRE",
        "outputId": "8ad27d95-85d9-4931-daa4-1e2a7f48c3ed"
      },
      "execution_count": 46,
      "outputs": [
        {
          "output_type": "stream",
          "name": "stdout",
          "text": [
            "[[0. 0. 0.]\n",
            " [0. 0. 0.]\n",
            " [0. 0. 0.]]\n"
          ]
        },
        {
          "output_type": "execute_result",
          "data": {
            "text/plain": [
              "True"
            ]
          },
          "metadata": {},
          "execution_count": 46
        }
      ]
    },
    {
      "cell_type": "markdown",
      "source": [
        "## Determinant"
      ],
      "metadata": {
        "id": "9XzFNA4ce5lG"
      }
    },
    {
      "cell_type": "markdown",
      "source": [
        "A determinant is a scalar value derived from a square matrix. The determinant is a fundamental and important value used in matrix algebra. Although it will not be evident in this laboratory on how it can be used practically, but it will be reatly used in future lessons.\n",
        "\n",
        "The determinant of some matrix $A$ is denoted as $det(A)$ or $|A|$. So let's say $A$ is represented as:\n",
        "$$A = \\begin{bmatrix}a_{(0,0)}&a_{(0,1)}\\\\a_{(1,0)}&a_{(1,1)}\\end{bmatrix}$$\n",
        "We can compute for the determinant as:\n",
        "$$|A| = a_{(0,0)}*a_{(1,1)} - a_{(1,0)}*a_{(0,1)}$$\n",
        "So if we have $A$ as:\n",
        "$$A = \\begin{bmatrix}1&4\\\\0&3\\end{bmatrix}, |A| = 3$$\n",
        "\n",
        "But you might wonder how about square matrices beyond the shape $(2,2)$? We can approach this problem by using several methods such as co-factor expansion and the minors method. This can be taught in the lecture of the laboratory but we can achieve the strenuous computation of high-dimensional matrices programmatically using Python. We can achieve this by using `np.linalg.det()`."
      ],
      "metadata": {
        "id": "-Y4V1ng4e9S3"
      }
    },
    {
      "cell_type": "code",
      "source": [
        "A = np.array([\n",
        "    [2,5],\n",
        "    [1,4]\n",
        "])\n",
        "np.linalg.det(A)"
      ],
      "metadata": {
        "colab": {
          "base_uri": "https://localhost:8080/"
        },
        "id": "hNx14kwmfDv_",
        "outputId": "f8a9b7ca-5e18-4ab9-ee19-fd3d55f47207"
      },
      "execution_count": 49,
      "outputs": [
        {
          "output_type": "execute_result",
          "data": {
            "text/plain": [
              "2.9999999999999996"
            ]
          },
          "metadata": {},
          "execution_count": 49
        }
      ]
    },
    {
      "cell_type": "code",
      "source": [
        "B = np.array([\n",
        "    [1,3,5],\n",
        "    [0,3,1],\n",
        "    [5,2,6]\n",
        "])\n",
        "np.linalg.det(B)"
      ],
      "metadata": {
        "colab": {
          "base_uri": "https://localhost:8080/"
        },
        "id": "k6Xt7WfufGaz",
        "outputId": "86d7cc0b-de12-4072-9fbd-e2a65ad611ce"
      },
      "execution_count": 51,
      "outputs": [
        {
          "output_type": "execute_result",
          "data": {
            "text/plain": [
              "-43.99999999999999"
            ]
          },
          "metadata": {},
          "execution_count": 51
        }
      ]
    },
    {
      "cell_type": "code",
      "source": [
        "C = np.array([\n",
        "    [1,3,5,6],\n",
        "    [0,3,1,3],\n",
        "    [3,1,8,2],\n",
        "    [5,2,6,8]\n",
        "])\n",
        "np.linalg.det(C)"
      ],
      "metadata": {
        "colab": {
          "base_uri": "https://localhost:8080/"
        },
        "id": "yuDYFfmbg1Tr",
        "outputId": "d0965c33-559a-44db-c55f-537e25dc0cb1"
      },
      "execution_count": 52,
      "outputs": [
        {
          "output_type": "execute_result",
          "data": {
            "text/plain": [
              "-235.0000000000002"
            ]
          },
          "metadata": {},
          "execution_count": 52
        }
      ]
    },
    {
      "cell_type": "markdown",
      "source": [
        "Inverse"
      ],
      "metadata": {
        "id": "Ph_X4_ekfL8U"
      }
    },
    {
      "cell_type": "markdown",
      "source": [
        "The inverse of a matrix is another fundamental operation in matrix algebra. Determining the inverse of a matrix let us determine if its solvability and its characteristic as a system of linear equation — we'll expand on this in the nect module. Another use of the inverse matrix is solving the problem of divisibility between matrices. Although element-wise division exists but dividing the entire concept of matrices does not exists. Inverse matrices provides a related operation that could have the same concept of \"dividing\" matrices.\n",
        "\n",
        "Now to determine the inverse of a matrix we need to perform several steps. So let's say we have a matrix $M$:\n",
        "$$M = \\begin{bmatrix}1&7\\\\-3&5\\end{bmatrix}$$\n",
        "First, we need to get the determinant of $M$.\n",
        "$$|M| = (1)(5)-(-3)(7) = 26$$\n",
        "Next, we need to reform the matrix into the inverse form:\n",
        "$$M^{-1} = \\frac{1}{|M|} \\begin{bmatrix} m_{(1,1)} & -m_{(0,1)} \\\\ -m_{(1,0)} & m_{(0,0)}\\end{bmatrix}$$\n",
        "So that will be:\n",
        "$$M^{-1} = \\frac{1}{26} \\begin{bmatrix} 5 & -7 \\\\ 3 & 1\\end{bmatrix} = \\begin{bmatrix} \\frac{5}{26} & \\frac{-7}{26} \\\\ \\frac{3}{26} & \\frac{1}{26}\\end{bmatrix}$$\n",
        "For higher-dimension matrices you might need to use co-factors, minors, adjugates, and other reduction techinques. To solve this programmatially we can use `np.linalg.inv()`."
      ],
      "metadata": {
        "id": "i_zX9M6XfQ3U"
      }
    },
    {
      "cell_type": "code",
      "source": [
        "M = np.array([\n",
        "    [1,7],\n",
        "    [-3, 5]\n",
        "])\n",
        "\n",
        "np.array(M @ np.linalg.inv(M), dtype=int)"
      ],
      "metadata": {
        "id": "HpBqT2Bdg9jd"
      },
      "execution_count": null,
      "outputs": []
    },
    {
      "cell_type": "code",
      "source": [
        "P = np.array([\n",
        "            [1,4,7],\n",
        "            [8,5,6],\n",
        "            [2,5,0]  \n",
        "])\n",
        "Q = np.linalg.inv(P)\n",
        "Q"
      ],
      "metadata": {
        "colab": {
          "base_uri": "https://localhost:8080/"
        },
        "id": "G7Kh_hOGhHNt",
        "outputId": "b9ba86ab-7edc-45a6-86be-633f1d679387"
      },
      "execution_count": 54,
      "outputs": [
        {
          "output_type": "execute_result",
          "data": {
            "text/plain": [
              "array([[-0.13157895,  0.15350877, -0.04824561],\n",
              "       [ 0.05263158, -0.06140351,  0.21929825],\n",
              "       [ 0.13157895,  0.01315789, -0.11842105]])"
            ]
          },
          "metadata": {},
          "execution_count": 54
        }
      ]
    },
    {
      "cell_type": "code",
      "source": [
        "P @ Q"
      ],
      "metadata": {
        "colab": {
          "base_uri": "https://localhost:8080/"
        },
        "id": "pGZzkspbhHAe",
        "outputId": "0f936496-6e3a-4e0e-ba01-ab6a228059d8"
      },
      "execution_count": 55,
      "outputs": [
        {
          "output_type": "execute_result",
          "data": {
            "text/plain": [
              "array([[ 1.00000000e+00, -1.38777878e-17,  6.93889390e-17],\n",
              "       [-5.55111512e-17,  1.00000000e+00,  2.77555756e-17],\n",
              "       [ 0.00000000e+00, -2.77555756e-17,  1.00000000e+00]])"
            ]
          },
          "metadata": {},
          "execution_count": 55
        }
      ]
    },
    {
      "cell_type": "code",
      "source": [
        "## And now let's test your skills in solving a matrix with high dimensions:\n",
        "N = np.array([\n",
        "    [18,5,23,1,0,33,5],\n",
        "    [0,45,0,11,2,4,2],\n",
        "    [5,9,20,0,0,0,3],\n",
        "    [1,6,4,4,8,43,1],\n",
        "    [8,6,8,7,1,6,1],\n",
        "    [-5,15,2,0,0,6,-30],\n",
        "    [-2,-5,1,2,1,20,12],\n",
        "])\n",
        "N_inv = np.linalg.inv(N)\n",
        "np.array(N @ N_inv,dtype=int)"
      ],
      "metadata": {
        "id": "wh58aqn2hADi"
      },
      "execution_count": null,
      "outputs": []
    },
    {
      "cell_type": "markdown",
      "source": [
        "To validate the wether if the matric that you have solved is really the inverse, we follow this dot product property for a matrix $M$:\n",
        "$$M\\cdot M^{-1} = I$$"
      ],
      "metadata": {
        "id": "Ia5hbr3siKMJ"
      }
    },
    {
      "cell_type": "code",
      "source": [
        "squad = np.array([\n",
        "    [1.0, 1.0, 0.5],\n",
        "    [0.7, 0.7, 0.9],\n",
        "    [0.3, 0.3, 1.0]\n",
        "])\n",
        "weights = np.array([\n",
        "    [0.2, 0.2, 0.6]\n",
        "])\n",
        "p_grade = squad @ weights.T\n",
        "p_grade\n"
      ],
      "metadata": {
        "colab": {
          "base_uri": "https://localhost:8080/"
        },
        "id": "Gfq9jzlHiPki",
        "outputId": "f3963542-b4d1-4120-ffc5-03d3beea4f35"
      },
      "execution_count": 56,
      "outputs": [
        {
          "output_type": "execute_result",
          "data": {
            "text/plain": [
              "array([[0.7 ],\n",
              "       [0.82],\n",
              "       [0.72]])"
            ]
          },
          "metadata": {},
          "execution_count": 56
        }
      ]
    },
    {
      "cell_type": "markdown",
      "source": [
        "## Activity"
      ],
      "metadata": {
        "id": "yongHINSiSfa"
      }
    },
    {
      "cell_type": "markdown",
      "source": [
        "### Task 1"
      ],
      "metadata": {
        "id": "UX9jHr_EiV6a"
      }
    },
    {
      "cell_type": "markdown",
      "source": [
        "Prove and implement the remaining 6 matrix multiplication properties. You may create your own matrices in which their shapes should not be lower than $(3,3)$.\n",
        "In your methodology, create individual flowcharts for each property and discuss the property you would then present your proofs or validity of your implementation in the results section by comparing your result to present functions from NumPy."
      ],
      "metadata": {
        "id": "yA4pfOQHiYhy"
      }
    },
    {
      "cell_type": "code",
      "source": [
        ""
      ],
      "metadata": {
        "id": "4NxvNMQFjh4O"
      },
      "execution_count": null,
      "outputs": []
    },
    {
      "cell_type": "code",
      "metadata": {
        "id": "S0RNScmO5qAn",
        "colab": {
          "base_uri": "https://localhost:8080/"
        },
        "outputId": "aca6353a-d27c-48b0-ddfb-b83b725b2f8e"
      },
      "source": [
        "np.array([])"
      ],
      "execution_count": 57,
      "outputs": [
        {
          "output_type": "execute_result",
          "data": {
            "text/plain": [
              "array([], dtype=float64)"
            ]
          },
          "metadata": {},
          "execution_count": 57
        }
      ]
    },
    {
      "cell_type": "code",
      "source": [
        ""
      ],
      "metadata": {
        "id": "OPpfKfVJjlGp"
      },
      "execution_count": null,
      "outputs": []
    },
    {
      "cell_type": "code",
      "source": [
        ""
      ],
      "metadata": {
        "id": "9DU5V5PSjlAK"
      },
      "execution_count": null,
      "outputs": []
    },
    {
      "cell_type": "code",
      "source": [
        ""
      ],
      "metadata": {
        "id": "Pwc3Dxbrjk4S"
      },
      "execution_count": null,
      "outputs": []
    },
    {
      "cell_type": "code",
      "source": [
        ""
      ],
      "metadata": {
        "id": "iyc3H-Ngjkvy"
      },
      "execution_count": null,
      "outputs": []
    },
    {
      "cell_type": "code",
      "source": [
        ""
      ],
      "metadata": {
        "id": "Tvr0-A9DjkkM"
      },
      "execution_count": null,
      "outputs": []
    },
    {
      "cell_type": "markdown",
      "source": [
        "## Conclusion"
      ],
      "metadata": {
        "id": "cntBQNd-jnU1"
      }
    },
    {
      "cell_type": "markdown",
      "source": [
        "For your conclusion synthesize the concept and application of the laboratory. Briefly discuss what you have learned and achieved in this activity. Also answer the question: \"how can matrix operations solve problems in healthcare?\"."
      ],
      "metadata": {
        "id": "ZNwJMSRijqJV"
      }
    }
  ]
}